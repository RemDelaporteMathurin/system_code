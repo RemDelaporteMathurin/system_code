{
 "cells": [
  {
   "cell_type": "code",
   "execution_count": 2,
   "metadata": {},
   "outputs": [
    {
     "name": "stdout",
     "output_type": "stream",
     "text": [
      "2511000\r"
     ]
    },
    {
     "name": "stderr",
     "output_type": "stream",
     "text": [
      "C:\\Users\\user\\AppData\\Local\\Packages\\PythonSoftwareFoundation.Python.3.10_qbz5n2kfra8p0\\LocalCache\\local-packages\\Python310\\site-packages\\scipy\\optimize\\_minpack_py.py:175: RuntimeWarning: The iteration is not making good progress, as measured by the \n",
      "  improvement from the last ten iterations.\n",
      "  warnings.warn(msg, RuntimeWarning)\n"
     ]
    },
    {
     "name": "stdout",
     "output_type": "stream",
     "text": [
      "6047000\r"
     ]
    }
   ],
   "source": [
    "import system_code as tsc\n",
    "\n",
    "n_dot = 8.99e-7  # kg T burned / s\n",
    "TBR = 1.1\n",
    "TBE = 0.005\n",
    "\n",
    "# OFC\n",
    "plasma = tsc.Box(\"plasma\", volume=1, generation_term=-n_dot)\n",
    "blanket = tsc.Box(\"blanket\", volume=1, generation_term=n_dot * TBR)\n",
    "first_wall = tsc.Box(\"first wall\", volume=1)\n",
    "divertor = tsc.Box(\"divertor\", volume=1)\n",
    "t_extraction_system = tsc.Box(\"TES\", volume=1)\n",
    "heat_exchanger = tsc.Box(\"HX\", volume=1)\n",
    "\n",
    "# IFC\n",
    "fueling_system = tsc.Box(\"fueling system\", volume=1)\n",
    "storage_and_management = tsc.Box(\n",
    "    \"storage and management\", volume=1, initial_concentration=3\n",
    ")\n",
    "isotope_seperation_system = tsc.Box(\"ISS\", volume=1)\n",
    "vacuum_pump = tsc.Box(\"vacuum pump\", volume=1)\n",
    "fuel_cleanup = tsc.Box(\"fuel cleanup\", volume=1)\n",
    "detritiation_system = tsc.Box(\"detritiation system\", volume=1)\n",
    "\n",
    "# links\n",
    "f_p_fw = 1e-4\n",
    "f_p_div = 1e-4\n",
    "f_p_vaccum_pump = 1 - TBE - f_p_fw - f_p_div\n",
    "plasma.add_constant_output(first_wall, flow=f_p_fw * n_dot / TBE)\n",
    "plasma.add_constant_output(divertor, flow=f_p_div * n_dot / TBE)\n",
    "plasma.add_constant_output(vacuum_pump, flow=f_p_vaccum_pump * n_dot / TBE)\n",
    "\n",
    "tau_bz = 3600  # s\n",
    "blanket.add_output(t_extraction_system, flowrate=blanket.volume / tau_bz)\n",
    "blanket.add_output(\n",
    "    first_wall, flowrate=0\n",
    ")  # can't find info in paper , assuming zero for now\n",
    "blanket.add_output(\n",
    "    divertor, flowrate=0\n",
    ")  # can't find info in paper , assuming zero for now\n",
    "\n",
    "tau_fw = 1000  # s\n",
    "first_wall.add_output(blanket, flowrate=first_wall.volume / tau_fw)\n",
    "\n",
    "tau_div = 1000  # s\n",
    "divertor.add_output(blanket, flowrate=divertor.volume / tau_div)\n",
    "\n",
    "tau_tes = 24 * 3600  # s\n",
    "eta_tes = 0.9\n",
    "t_extraction_system.add_output(\n",
    "    heat_exchanger, flowrate=(1 - eta_tes) * t_extraction_system.volume / tau_tes\n",
    ")\n",
    "t_extraction_system.add_output(\n",
    "    isotope_seperation_system, flowrate=eta_tes * t_extraction_system.volume / tau_tes\n",
    ")\n",
    "\n",
    "tau_hx = 1000  # s\n",
    "f_hx_det_sys = 1e-4\n",
    "heat_exchanger.add_output(\n",
    "    blanket, flowrate=(1 - f_hx_det_sys) * heat_exchanger.volume / tau_hx\n",
    ")\n",
    "heat_exchanger.add_output(\n",
    "    detritiation_system, flowrate=f_hx_det_sys * heat_exchanger.volume / tau_hx\n",
    ")\n",
    "\n",
    "tau_iss = 3.7 * 3600  # s\n",
    "f_iss_det_sys = 0.1\n",
    "isotope_seperation_system.add_output(\n",
    "    storage_and_management,\n",
    "    flowrate=(1 - f_iss_det_sys) * isotope_seperation_system.volume / tau_iss,\n",
    ")\n",
    "isotope_seperation_system.add_output(\n",
    "    detritiation_system,\n",
    "    flowrate=f_iss_det_sys * isotope_seperation_system.volume / tau_iss,\n",
    ")\n",
    "\n",
    "tau_det = 1 * 3600  # s\n",
    "detritiation_system.add_output(\n",
    "    isotope_seperation_system, flowrate=detritiation_system.volume / tau_det\n",
    ")\n",
    "\n",
    "tau_vp = 600  # s\n",
    "f_DIR = 0.5\n",
    "vacuum_pump.add_output(fuel_cleanup, flowrate=(1 - f_DIR) * vacuum_pump.volume / tau_vp)\n",
    "vacuum_pump.add_output(\n",
    "    storage_and_management, flowrate=f_DIR * vacuum_pump.volume / tau_vp\n",
    ")  # DIR\n",
    "\n",
    "tau_fc = 0.3 * 3600  # s\n",
    "fuel_cleanup.add_output(\n",
    "    isotope_seperation_system, flowrate=fuel_cleanup.volume / tau_fc\n",
    ")\n",
    "\n",
    "fueling_system.add_constant_output(plasma, flow=n_dot / TBE)\n",
    "\n",
    "storage_and_management.add_constant_output(fueling_system, flow=n_dot / TBE)\n",
    "\n",
    "# system\n",
    "\n",
    "system = tsc.System(\n",
    "    [\n",
    "        plasma,\n",
    "        blanket,\n",
    "        divertor,\n",
    "        first_wall,\n",
    "        t_extraction_system,\n",
    "        heat_exchanger,\n",
    "        isotope_seperation_system,\n",
    "        detritiation_system,\n",
    "        vacuum_pump,\n",
    "        fuel_cleanup,\n",
    "        fueling_system,\n",
    "        storage_and_management,\n",
    "    ],\n",
    "    dt=1000\n",
    ")\n",
    "\n",
    "system.run(70 * 24 * 3600)"
   ]
  },
  {
   "cell_type": "code",
   "execution_count": 10,
   "metadata": {},
   "outputs": [
    {
     "data": {
      "text/plain": [
       "Text(0, 0.5, 'Inventories (kg)')"
      ]
     },
     "execution_count": 10,
     "metadata": {},
     "output_type": "execute_result"
    },
    {
     "data": {
      "image/png": "[encoded data removed]",
      "text/plain": [
       "<Figure size 432x288 with 1 Axes>"
      ]
     },
     "metadata": {
      "needs_background": "light"
     },
     "output_type": "display_data"
    }
   ],
   "source": [
    "import matplotlib.pyplot as plt\n",
    "import matplotx\n",
    "import numpy as np\n",
    "\n",
    "for box in system.boxes:\n",
    "    plt.plot(np.array(system.t)/3600/24, box.concentrations, label=box.name)\n",
    "\n",
    "matplotx.line_labels()\n",
    "plt.xlabel(\"Time (days)\")\n",
    "plt.ylabel(\"Inventories (kg)\")\n"
   ]
  },
  {
   "cell_type": "code",
   "execution_count": 20,
   "metadata": {},
   "outputs": [
    {
     "data": {
      "image/svg+xml": "<?xml version=\"1.0\" encoding=\"UTF-8\" standalone=\"no\"?>\n<!DOCTYPE svg PUBLIC \"-//W3C//DTD SVG 1.1//EN\"\n \"http://www.w3.org/Graphics/SVG/1.1/DTD/svg11.dtd\">\n<!-- Generated by graphviz version 7.0.2 (20221119.0110)\n -->\n<!-- Title: system&#45;graph Pages: 1 -->\n<svg width=\"344pt\" height=\"620pt\"\n viewBox=\"0.00 0.00 344.00 620.00\" xmlns=\"http://www.w3.org/2000/svg\" xmlns:xlink=\"http://www.w3.org/1999/xlink\">\n<g id=\"graph0\" class=\"graph\" transform=\"scale(1 1) rotate(0) translate(4 616)\">\n<title>system&#45;graph</title>\n<polygon fill=\"white\" stroke=\"none\" points=\"-4,4 -4,-616 340,-616 340,4 -4,4\"/>\n<!-- plasma -->\n<g id=\"node1\" class=\"node\">\n<title>plasma</title>\n<polygon fill=\"#b2dfee\" stroke=\"#b2dfee\" points=\"283,-612 227,-612 227,-576 283,-576 283,-612\"/>\n<text text-anchor=\"middle\" x=\"255\" y=\"-590.3\" font-family=\"Times New Roman,serif\" font-size=\"14.00\">plasma</text>\n</g>\n<!-- divertor -->\n<g id=\"node3\" class=\"node\">\n<title>divertor</title>\n<polygon fill=\"#b2dfee\" stroke=\"#b2dfee\" points=\"208,-540 148,-540 148,-504 208,-504 208,-540\"/>\n<text text-anchor=\"middle\" x=\"178\" y=\"-518.3\" font-family=\"Times New Roman,serif\" font-size=\"14.00\">divertor</text>\n</g>\n<!-- plasma&#45;&gt;divertor -->\n<g id=\"edge2\" class=\"edge\">\n<title>plasma&#45;&gt;divertor</title>\n<path fill=\"none\" stroke=\"black\" d=\"M233.33,-575.83C233.33,-554.5 233.33,-522 233.33,-522 233.33,-522 219.77,-522 219.77,-522\"/>\n<polygon fill=\"black\" stroke=\"black\" points=\"219.77,-518.5 209.77,-522 219.77,-525.5 219.77,-518.5\"/>\n<text text-anchor=\"middle\" x=\"212.33\" y=\"-545.93\" font-family=\"Times New Roman,serif\" font-size=\"14.00\">1.8e&#45;08</text>\n</g>\n<!-- first wall -->\n<g id=\"node4\" class=\"node\">\n<title>first wall</title>\n<polygon fill=\"#b2dfee\" stroke=\"#b2dfee\" points=\"246,-396 182,-396 182,-360 246,-360 246,-396\"/>\n<text text-anchor=\"middle\" x=\"214\" y=\"-374.3\" font-family=\"Times New Roman,serif\" font-size=\"14.00\">first wall</text>\n</g>\n<!-- plasma&#45;&gt;first wall -->\n<g id=\"edge1\" class=\"edge\">\n<title>plasma&#45;&gt;first wall</title>\n<path fill=\"none\" stroke=\"black\" d=\"M239.67,-575.58C239.67,-575.58 239.67,-407.88 239.67,-407.88\"/>\n<polygon fill=\"black\" stroke=\"black\" points=\"243.17,-407.88 239.67,-397.88 236.17,-407.88 243.17,-407.88\"/>\n<text text-anchor=\"middle\" x=\"218.67\" y=\"-480.53\" font-family=\"Times New Roman,serif\" font-size=\"14.00\">1.8e&#45;08</text>\n</g>\n<!-- vacuum pump -->\n<g id=\"node9\" class=\"node\">\n<title>vacuum pump</title>\n<polygon fill=\"#b2dfee\" stroke=\"#b2dfee\" points=\"313,-324 217,-324 217,-288 313,-288 313,-324\"/>\n<text text-anchor=\"middle\" x=\"265\" y=\"-302.3\" font-family=\"Times New Roman,serif\" font-size=\"14.00\">vacuum pump</text>\n</g>\n<!-- plasma&#45;&gt;vacuum pump -->\n<g id=\"edge3\" class=\"edge\">\n<title>plasma&#45;&gt;vacuum pump</title>\n<path fill=\"none\" stroke=\"black\" d=\"M264.5,-575.55C264.5,-575.55 264.5,-335.81 264.5,-335.81\"/>\n<polygon fill=\"black\" stroke=\"black\" points=\"268,-335.81 264.5,-325.81 261,-335.81 268,-335.81\"/>\n<text text-anchor=\"middle\" x=\"243.5\" y=\"-459.48\" font-family=\"Times New Roman,serif\" font-size=\"14.00\">1.8e&#45;04</text>\n</g>\n<!-- blanket -->\n<g id=\"node2\" class=\"node\">\n<title>blanket</title>\n<polygon fill=\"#b2dfee\" stroke=\"#b2dfee\" points=\"206,-468 150,-468 150,-432 206,-432 206,-468\"/>\n<text text-anchor=\"middle\" x=\"178\" y=\"-446.3\" font-family=\"Times New Roman,serif\" font-size=\"14.00\">blanket</text>\n</g>\n<!-- blanket&#45;&gt;divertor -->\n<g id=\"edge6\" class=\"edge\">\n<title>blanket&#45;&gt;divertor</title>\n<path fill=\"none\" stroke=\"black\" d=\"M168.67,-468.17C168.67,-468.17 168.67,-492.07 168.67,-492.07\"/>\n<polygon fill=\"black\" stroke=\"black\" points=\"165.17,-492.07 168.67,-502.07 172.17,-492.07 165.17,-492.07\"/>\n<text text-anchor=\"middle\" x=\"145.67\" y=\"-483.92\" font-family=\"Times New Roman,serif\" font-size=\"14.00\">0.0e+00</text>\n</g>\n<!-- blanket&#45;&gt;first wall -->\n<g id=\"edge5\" class=\"edge\">\n<title>blanket&#45;&gt;first wall</title>\n<path fill=\"none\" stroke=\"black\" d=\"M190,-431.83C190,-431.83 190,-407.93 190,-407.93\"/>\n<polygon fill=\"black\" stroke=\"black\" points=\"193.5,-407.93 190,-397.93 186.5,-407.93 193.5,-407.93\"/>\n<text text-anchor=\"middle\" x=\"167\" y=\"-408.68\" font-family=\"Times New Roman,serif\" font-size=\"14.00\">0.0e+00</text>\n</g>\n<!-- TES -->\n<g id=\"node5\" class=\"node\">\n<title>TES</title>\n<polygon fill=\"#b2dfee\" stroke=\"#b2dfee\" points=\"164,-396 110,-396 110,-360 164,-360 164,-396\"/>\n<text text-anchor=\"middle\" x=\"137\" y=\"-374.3\" font-family=\"Times New Roman,serif\" font-size=\"14.00\">TES</text>\n</g>\n<!-- blanket&#45;&gt;TES -->\n<g id=\"edge4\" class=\"edge\">\n<title>blanket&#45;&gt;TES</title>\n<path fill=\"none\" stroke=\"black\" d=\"M157,-431.83C157,-431.83 157,-407.93 157,-407.93\"/>\n<polygon fill=\"black\" stroke=\"black\" points=\"160.5,-407.93 157,-397.93 153.5,-407.93 160.5,-407.93\"/>\n<text text-anchor=\"middle\" x=\"136\" y=\"-423.68\" font-family=\"Times New Roman,serif\" font-size=\"14.00\">2.8e&#45;04</text>\n</g>\n<!-- divertor&#45;&gt;blanket -->\n<g id=\"edge7\" class=\"edge\">\n<title>divertor&#45;&gt;blanket</title>\n<path fill=\"none\" stroke=\"black\" d=\"M187.33,-503.83C187.33,-503.83 187.33,-479.93 187.33,-479.93\"/>\n<polygon fill=\"black\" stroke=\"black\" points=\"190.83,-479.93 187.33,-469.93 183.83,-479.93 190.83,-479.93\"/>\n<text text-anchor=\"middle\" x=\"208.33\" y=\"-495.68\" font-family=\"Times New Roman,serif\" font-size=\"14.00\">1.0e&#45;03</text>\n</g>\n<!-- first wall&#45;&gt;blanket -->\n<g id=\"edge8\" class=\"edge\">\n<title>first wall&#45;&gt;blanket</title>\n<path fill=\"none\" stroke=\"black\" d=\"M198,-396.17C198,-396.17 198,-420.07 198,-420.07\"/>\n<polygon fill=\"black\" stroke=\"black\" points=\"194.5,-420.07 198,-430.07 201.5,-420.07 194.5,-420.07\"/>\n<text text-anchor=\"middle\" x=\"219\" y=\"-411.92\" font-family=\"Times New Roman,serif\" font-size=\"14.00\">1.0e&#45;03</text>\n</g>\n<!-- HX -->\n<g id=\"node6\" class=\"node\">\n<title>HX</title>\n<polygon fill=\"#b2dfee\" stroke=\"#b2dfee\" points=\"109,-324 55,-324 55,-288 109,-288 109,-324\"/>\n<text text-anchor=\"middle\" x=\"82\" y=\"-302.3\" font-family=\"Times New Roman,serif\" font-size=\"14.00\">HX</text>\n</g>\n<!-- TES&#45;&gt;HX -->\n<g id=\"edge9\" class=\"edge\">\n<title>TES&#45;&gt;HX</title>\n<path fill=\"none\" stroke=\"black\" d=\"M114,-359.62C114,-340.09 114,-312 114,-312 114,-312 113.53,-312 113.53,-312\"/>\n<polygon fill=\"black\" stroke=\"black\" points=\"120.79,-308.5 110.79,-312 120.79,-315.5 120.79,-308.5\"/>\n<text text-anchor=\"middle\" x=\"93\" y=\"-339.37\" font-family=\"Times New Roman,serif\" font-size=\"14.00\">1.2e&#45;06</text>\n</g>\n<!-- ISS -->\n<g id=\"node7\" class=\"node\">\n<title>ISS</title>\n<polygon fill=\"#b2dfee\" stroke=\"#b2dfee\" points=\"173,-180 119,-180 119,-144 173,-144 173,-180\"/>\n<text text-anchor=\"middle\" x=\"146\" y=\"-158.3\" font-family=\"Times New Roman,serif\" font-size=\"14.00\">ISS</text>\n</g>\n<!-- TES&#45;&gt;ISS -->\n<g id=\"edge10\" class=\"edge\">\n<title>TES&#45;&gt;ISS</title>\n<path fill=\"none\" stroke=\"black\" d=\"M152.75,-359.58C152.75,-359.58 152.75,-191.88 152.75,-191.88\"/>\n<polygon fill=\"black\" stroke=\"black\" points=\"156.25,-191.88 152.75,-181.88 149.25,-191.88 156.25,-191.88\"/>\n<text text-anchor=\"middle\" x=\"131.75\" y=\"-279.53\" font-family=\"Times New Roman,serif\" font-size=\"14.00\">1.0e&#45;05</text>\n</g>\n<!-- HX&#45;&gt;blanket -->\n<g id=\"edge11\" class=\"edge\">\n<title>HX&#45;&gt;blanket</title>\n<path fill=\"none\" stroke=\"black\" d=\"M109.36,-300C134.21,-300 167,-300 167,-300 167,-300 167,-420.09 167,-420.09\"/>\n<polygon fill=\"black\" stroke=\"black\" points=\"163.5,-420.09 167,-430.09 170.5,-420.09 163.5,-420.09\"/>\n<text text-anchor=\"middle\" x=\"146\" y=\"-335.03\" font-family=\"Times New Roman,serif\" font-size=\"14.00\">1.0e&#45;03</text>\n</g>\n<!-- detritiation system -->\n<g id=\"node8\" class=\"node\">\n<title>detritiation system</title>\n<polygon fill=\"#b2dfee\" stroke=\"#b2dfee\" points=\"118,-252 0,-252 0,-216 118,-216 118,-252\"/>\n<text text-anchor=\"middle\" x=\"59\" y=\"-230.3\" font-family=\"Times New Roman,serif\" font-size=\"14.00\">detritiation system</text>\n</g>\n<!-- HX&#45;&gt;detritiation system -->\n<g id=\"edge12\" class=\"edge\">\n<title>HX&#45;&gt;detritiation system</title>\n<path fill=\"none\" stroke=\"black\" d=\"M82,-287.83C82,-287.83 82,-263.93 82,-263.93\"/>\n<polygon fill=\"black\" stroke=\"black\" points=\"85.5,-263.93 82,-253.93 78.5,-263.93 85.5,-263.93\"/>\n<text text-anchor=\"middle\" x=\"61\" y=\"-264.68\" font-family=\"Times New Roman,serif\" font-size=\"14.00\">1.0e&#45;07</text>\n</g>\n<!-- ISS&#45;&gt;detritiation system -->\n<g id=\"edge14\" class=\"edge\">\n<title>ISS&#45;&gt;detritiation system</title>\n<path fill=\"none\" stroke=\"black\" d=\"M141.5,-180.38C141.5,-204.28 141.5,-243 141.5,-243 141.5,-243 129.59,-243 129.59,-243\"/>\n<polygon fill=\"black\" stroke=\"black\" points=\"129.59,-239.5 119.59,-243 129.59,-246.5 129.59,-239.5\"/>\n<text text-anchor=\"middle\" x=\"141.5\" y=\"-206.44\" font-family=\"Times New Roman,serif\" font-size=\"14.00\">7.5e&#45;06</text>\n</g>\n<!-- storage and management -->\n<g id=\"node12\" class=\"node\">\n<title>storage and management</title>\n<polygon fill=\"#b2dfee\" stroke=\"#b2dfee\" points=\"313,-108 159,-108 159,-72 313,-72 313,-108\"/>\n<text text-anchor=\"middle\" x=\"236\" y=\"-86.3\" font-family=\"Times New Roman,serif\" font-size=\"14.00\">storage and management</text>\n</g>\n<!-- ISS&#45;&gt;storage and management -->\n<g id=\"edge13\" class=\"edge\">\n<title>ISS&#45;&gt;storage and management</title>\n<path fill=\"none\" stroke=\"black\" d=\"M166,-143.83C166,-143.83 166,-119.93 166,-119.93\"/>\n<polygon fill=\"black\" stroke=\"black\" points=\"169.5,-119.93 166,-109.93 162.5,-119.93 169.5,-119.93\"/>\n<text text-anchor=\"middle\" x=\"145\" y=\"-120.68\" font-family=\"Times New Roman,serif\" font-size=\"14.00\">6.8e&#45;05</text>\n</g>\n<!-- detritiation system&#45;&gt;ISS -->\n<g id=\"edge15\" class=\"edge\">\n<title>detritiation system&#45;&gt;ISS</title>\n<path fill=\"none\" stroke=\"black\" d=\"M118.48,-234C125.51,-234 130.25,-234 130.25,-234 130.25,-234 130.25,-191.68 130.25,-191.68\"/>\n<polygon fill=\"black\" stroke=\"black\" points=\"133.75,-191.68 130.25,-181.68 126.75,-191.68 133.75,-191.68\"/>\n<text text-anchor=\"middle\" x=\"151.25\" y=\"-222.52\" font-family=\"Times New Roman,serif\" font-size=\"14.00\">2.8e&#45;04</text>\n</g>\n<!-- fuel cleanup -->\n<g id=\"node10\" class=\"node\">\n<title>fuel cleanup</title>\n<polygon fill=\"#b2dfee\" stroke=\"#b2dfee\" points=\"257.5,-252 174.5,-252 174.5,-216 257.5,-216 257.5,-252\"/>\n<text text-anchor=\"middle\" x=\"216\" y=\"-230.3\" font-family=\"Times New Roman,serif\" font-size=\"14.00\">fuel cleanup</text>\n</g>\n<!-- vacuum pump&#45;&gt;fuel cleanup -->\n<g id=\"edge16\" class=\"edge\">\n<title>vacuum pump&#45;&gt;fuel cleanup</title>\n<path fill=\"none\" stroke=\"black\" d=\"M237.25,-287.83C237.25,-287.83 237.25,-263.93 237.25,-263.93\"/>\n<polygon fill=\"black\" stroke=\"black\" points=\"240.75,-263.93 237.25,-253.93 233.75,-263.93 240.75,-263.93\"/>\n<text text-anchor=\"middle\" x=\"216.25\" y=\"-264.68\" font-family=\"Times New Roman,serif\" font-size=\"14.00\">8.3e&#45;04</text>\n</g>\n<!-- vacuum pump&#45;&gt;storage and management -->\n<g id=\"edge17\" class=\"edge\">\n<title>vacuum pump&#45;&gt;storage and management</title>\n<path fill=\"none\" stroke=\"black\" d=\"M285.25,-287.58C285.25,-287.58 285.25,-119.88 285.25,-119.88\"/>\n<polygon fill=\"black\" stroke=\"black\" points=\"288.75,-119.88 285.25,-109.88 281.75,-119.88 288.75,-119.88\"/>\n<text text-anchor=\"middle\" x=\"264.25\" y=\"-192.53\" font-family=\"Times New Roman,serif\" font-size=\"14.00\">8.3e&#45;04</text>\n</g>\n<!-- fuel cleanup&#45;&gt;ISS -->\n<g id=\"edge18\" class=\"edge\">\n<title>fuel cleanup&#45;&gt;ISS</title>\n<path fill=\"none\" stroke=\"black\" d=\"M174.25,-225C171.62,-225 170,-225 170,-225 170,-225 170,-191.74 170,-191.74\"/>\n<polygon fill=\"black\" stroke=\"black\" points=\"173.5,-191.74 170,-181.74 166.5,-191.74 173.5,-191.74\"/>\n<text text-anchor=\"middle\" x=\"191\" y=\"-199.29\" font-family=\"Times New Roman,serif\" font-size=\"14.00\">9.3e&#45;04</text>\n</g>\n<!-- fueling system -->\n<g id=\"node11\" class=\"node\">\n<title>fueling system</title>\n<polygon fill=\"#b2dfee\" stroke=\"#b2dfee\" points=\"336,-36 240,-36 240,0 336,0 336,-36\"/>\n<text text-anchor=\"middle\" x=\"288\" y=\"-14.3\" font-family=\"Times New Roman,serif\" font-size=\"14.00\">fueling system</text>\n</g>\n<!-- fueling system&#45;&gt;plasma -->\n<g id=\"edge19\" class=\"edge\">\n<title>fueling system&#45;&gt;plasma</title>\n<path fill=\"none\" stroke=\"black\" d=\"M324.5,-36.19C324.5,-134.1 324.5,-594 324.5,-594 324.5,-594 294.78,-594 294.78,-594\"/>\n<polygon fill=\"black\" stroke=\"black\" points=\"294.78,-590.5 284.78,-594 294.78,-597.5 294.78,-590.5\"/>\n<text text-anchor=\"middle\" x=\"303.5\" y=\"-333.75\" font-family=\"Times New Roman,serif\" font-size=\"14.00\">1.8e&#45;04</text>\n</g>\n<!-- storage and management&#45;&gt;fueling system -->\n<g id=\"edge20\" class=\"edge\">\n<title>storage and management&#45;&gt;fueling system</title>\n<path fill=\"none\" stroke=\"black\" d=\"M276.5,-71.83C276.5,-71.83 276.5,-47.93 276.5,-47.93\"/>\n<polygon fill=\"black\" stroke=\"black\" points=\"280,-47.93 276.5,-37.93 273,-47.93 280,-47.93\"/>\n<text text-anchor=\"middle\" x=\"255.5\" y=\"-48.68\" font-family=\"Times New Roman,serif\" font-size=\"14.00\">1.8e&#45;04</text>\n</g>\n</g>\n</svg>\n",
      "text/plain": [
       "<graphviz.graphs.Digraph at 0x13ad79d73a0>"
      ]
     },
     "execution_count": 20,
     "metadata": {},
     "output_type": "execute_result"
    }
   ],
   "source": [
    "import graphviz\n",
    "graph = graphviz.Digraph('system-graph', comment='My System Graph', graph_attr={'splines': 'ortho'}, node_attr={'color': 'lightblue2', 'style': 'filled'})\n",
    "\n",
    "\n",
    "for box in system.boxes:\n",
    "    graph.node(box.name, box.name, shape='box')\n",
    "\n",
    "for box in system.boxes:\n",
    "    for output, flowrate in box.outputs.items():\n",
    "        graph.edge(box.name, output.name, xlabel=f\"{flowrate:.1e}\")\n",
    "\n",
    "    for output, flow in box.constant_outputs.items():\n",
    "        graph.edge(box.name, output.name, xlabel=f\"{flow:.1e}\")\n",
    "\n",
    "graph"
   ]
  }
 ],
 "metadata": {
  "kernelspec": {
   "display_name": "Python 3.10.8 64-bit (microsoft store)",
   "language": "python",
   "name": "python3"
  },
  "language_info": {
   "codemirror_mode": {
    "name": "ipython",
    "version": 3
   },
   "file_extension": ".py",
   "mimetype": "text/x-python",
   "name": "python",
   "nbconvert_exporter": "python",
   "pygments_lexer": "ipython3",
   "version": "3.10.8"
  },
  "orig_nbformat": 4,
  "vscode": {
   "interpreter": {
    "hash": "7b1f2b33e866b0bf2409397e5f58ba9cdf170d3b7f64c8f359c79998e2f88ad4"
   }
  }
 },
 "nbformat": 4,
 "nbformat_minor": 2
}
